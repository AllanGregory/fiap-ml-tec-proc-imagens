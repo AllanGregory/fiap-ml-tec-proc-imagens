{
 "cells": [
  {
   "cell_type": "markdown",
   "metadata": {},
   "source": [
    "# Segmentação de imagens"
   ]
  },
  {
   "cell_type": "markdown",
   "metadata": {},
   "source": [
    "Técnicas para identificação de objetos e formas."
   ]
  },
  {
   "cell_type": "code",
   "execution_count": 1,
   "metadata": {},
   "outputs": [
    {
     "name": "stdout",
     "output_type": "stream",
     "text": [
      "3.3.1\n"
     ]
    }
   ],
   "source": [
    "import cv2\n",
    "print(cv2.__version__)\n",
    "\n",
    "import numpy as np\n",
    "\n",
    "from matplotlib import pyplot as plt\n",
    "import matplotlib.image as mpimg\n",
    "\n",
    "%matplotlib inline\n",
    "\n",
    "plt.style.use('seaborn')"
   ]
  },
  {
   "cell_type": "markdown",
   "metadata": {},
   "source": [
    "Verificando versão instalada do OpenCV"
   ]
  },
  {
   "cell_type": "markdown",
   "metadata": {},
   "source": [
    "## Correspondência de formas (*shape matching*)"
   ]
  },
  {
   "cell_type": "code",
   "execution_count": 356,
   "metadata": {},
   "outputs": [
    {
     "name": "stdout",
     "output_type": "stream",
     "text": [
      "0.5\n",
      "1.0\n",
      "3.5\n",
      "4.0\n",
      "4.0\n",
      "4.0\n",
      "6.0\n",
      "6.0\n",
      "8.0\n",
      "8.0\n",
      "8.0\n",
      "10.0\n",
      "18.0\n",
      "23.0\n",
      "26.0\n",
      "26.0\n",
      "345.0\n"
     ]
    }
   ],
   "source": [
    "image_contour_approx = image.copy()\n",
    "\n",
    "for contour in contours:\n",
    "    convex_hull = cv2.convexHull(contour)\n",
    "    area = cv2.contourArea(contour)\n",
    "    print(area)\n",
    "    if area > 100:\n",
    "        cv2.drawContours(image_contour_approx, [convex_hull], 0, (0, 255, 0), 2)\n",
    "\n",
    "cv2.imshow(\"Hand Hull\", image_contour_approx)\n",
    "cv2.waitKey()\n",
    "cv2.destroyAllWindows()"
   ]
  },
  {
   "cell_type": "markdown",
   "metadata": {},
   "source": [
    "A utilização de contornos para identificação de formas também nos abre possibilidades de comparação entre elas. Somente utilizando aspecto geométrico, é possível identificar formas em imagens."
   ]
  },
  {
   "cell_type": "code",
   "execution_count": 2,
   "metadata": {},
   "outputs": [],
   "source": [
    "image = cv2.imread(\"imagens/shapes.jpg\")\n",
    "image_target = cv2.imread(\"imagens/star.jpg\")\n",
    "\n",
    "\n",
    "cv2.imshow(\"Fruits\", image)\n",
    "cv2.waitKey()\n",
    "\n",
    "cv2.imshow(\"Target\", image_target)\n",
    "cv2.waitKey()\n",
    "cv2.destroyAllWindows()"
   ]
  },
  {
   "cell_type": "code",
   "execution_count": 6,
   "metadata": {},
   "outputs": [],
   "source": [
    "image_gray = cv2.cvtColor(image, cv2.COLOR_BGR2GRAY)\n",
    "_, image_binary = cv2.threshold(image_gray, 230, 255,cv2.THRESH_BINARY_INV)\n",
    "\n",
    "image_gray_target = cv2.cvtColor(image_target, cv2.COLOR_BGR2GRAY)\n",
    "_, image_target_binary = cv2.threshold(image_gray_target, 230, 255,cv2.THRESH_BINARY_INV)\n",
    "\n",
    "\n",
    "cv2.imshow(\"Fruits Binary\", image_binary)\n",
    "cv2.waitKey()\n",
    "\n",
    "cv2.imshow(\"Target Binary\", image_target_binary)\n",
    "cv2.waitKey()\n",
    "cv2.destroyAllWindows()"
   ]
  },
  {
   "cell_type": "code",
   "execution_count": 7,
   "metadata": {},
   "outputs": [],
   "source": [
    "image_target_contour = image_target.copy()\n",
    "_, contour_target, hierarchy = cv2.findContours(image_target_binary, cv2.RETR_EXTERNAL, cv2.CHAIN_APPROX_SIMPLE)\n",
    "cv2.drawContours(image_target_contour, contour_target, 0, (0, 255, 0), 2)\n",
    "\n",
    "cv2.imshow(\"Target Contour\", image_target_contour)\n",
    "cv2.waitKey()\n",
    "cv2.destroyAllWindows()"
   ]
  },
  {
   "cell_type": "code",
   "execution_count": 8,
   "metadata": {},
   "outputs": [
    {
     "name": "stdout",
     "output_type": "stream",
     "text": [
      "0.21697076862173215\n",
      "0.10479351156122929\n",
      "0.05397178326730856\n",
      "0.24908817898612212\n",
      "0.027009941605979915\n",
      "0.23740218637769916\n"
     ]
    }
   ],
   "source": [
    "image_detected = image.copy()\n",
    "\n",
    "cv2.imshow(\"Detected B\", image_binary)\n",
    "cv2.waitKey()\n",
    "cv2.destroyAllWindows()\n",
    "\n",
    "_, contours, hierarchy = cv2.findContours(image_binary, cv2.RETR_EXTERNAL, cv2.CHAIN_APPROX_SIMPLE)\n",
    "\n",
    "for contour in contours:\n",
    "    #Quanto menor o valor mais similaridade existe\n",
    "    match_perc = cv2.matchShapes(contour_target[0], contour, 1, 0)\n",
    "    print(match_perc)\n",
    "    if match_perc < 0.05:\n",
    "        match_contour = contour   \n",
    "        cv2.drawContours(image_detected, [match_contour], 0, (0, 255, 0), 2)\n",
    "        \n",
    "cv2.imshow(\"Detected\", image_detected)\n",
    "cv2.waitKey()\n",
    "cv2.destroyAllWindows()"
   ]
  },
  {
   "cell_type": "markdown",
   "metadata": {},
   "source": [
    "## Detecção de linhas"
   ]
  },
  {
   "cell_type": "code",
   "execution_count": 62,
   "metadata": {},
   "outputs": [],
   "source": [
    "image = cv2.imread(\"imagens/campo.png\")\n",
    "\n",
    "cv2.imshow(\"Campo Futebol\", image)\n",
    "cv2.waitKey()\n",
    "cv2.destroyAllWindows()"
   ]
  },
  {
   "cell_type": "code",
   "execution_count": 67,
   "metadata": {},
   "outputs": [
    {
     "name": "stdout",
     "output_type": "stream",
     "text": [
      "[[-263.           3.0892327]]\n",
      "[[-260.           3.0892327]]\n",
      "[[-15.          3.0892327]]\n",
      "[[-18.          3.0892327]]\n",
      "[[-265.          3.106686]]\n",
      "[[-20.         3.106686]]\n",
      "[[211.          1.5184364]]\n",
      "[[28.         1.5184364]]\n",
      "[[395.          1.5184364]]\n",
      "[[398.          1.5184364]]\n",
      "[[215.          1.5184364]]\n",
      "[[30.         1.5184364]]\n"
     ]
    }
   ],
   "source": [
    "image_gray = cv2.cvtColor(image,cv2.COLOR_BGR2GRAY)\n",
    "\n",
    "image_edges = cv2.Canny(image_gray, 100, 250, apertureSize = 3)\n",
    "\n",
    "cv2.imshow(\"Campo Futebol Edges\", image_edges)\n",
    "cv2.waitKey()\n",
    "cv2.destroyAllWindows()\n",
    "\n",
    "image_detecada = image.copy()\n",
    "\n",
    "lines = cv2.HoughLines(image_edges, 1, np.pi/180, 100)\n",
    "\n",
    "for line in lines:\n",
    "    print(line)\n",
    "    for rho, theta in line:\n",
    "        a = np.cos(theta)\n",
    "        b = np.sin(theta)\n",
    "        x0 = a*rho\n",
    "        y0 = b*rho\n",
    "        x1 = int(x0 + 1000*(-b))\n",
    "        y1 = int(y0 + 1000*(a))\n",
    "        x2 = int(x0 - 1000*(-b))\n",
    "        y2 = int(y0 - 1000*(a))\n",
    "        cv2.line(image_detecada,(x1,y1),(x2,y2),(0,0,255),2)\n",
    "\n",
    "cv2.imshow(\"Campo Futebol Lines\", image_detecada)\n",
    "cv2.waitKey()\n",
    "cv2.destroyAllWindows()"
   ]
  },
  {
   "cell_type": "markdown",
   "metadata": {},
   "source": [
    "## Identificação de círculos"
   ]
  },
  {
   "cell_type": "code",
   "execution_count": 133,
   "metadata": {},
   "outputs": [],
   "source": [
    "image = cv2.imread(\"imagens/moedas.jpg\")\n",
    "\n",
    "cv2.imshow(\"Moedas\", image)\n",
    "cv2.waitKey()\n",
    "cv2.destroyAllWindows()"
   ]
  },
  {
   "cell_type": "code",
   "execution_count": 134,
   "metadata": {},
   "outputs": [],
   "source": [
    "image_gray = cv2.cvtColor(image, cv2.COLOR_BGR2GRAY)\n",
    "image_blur = cv2.medianBlur(image_gray, 5)\n",
    "\n",
    "circles = cv2.HoughCircles(image_blur, cv2.HOUGH_GRADIENT, 50, 80)\n",
    " \n",
    "for i in circles[0,:]:\n",
    "    #Círculo em volta da moeda\n",
    "    cv2.circle(image,(i[0], i[1]), i[2], (255, 0, 0), 2) \n",
    "    #Cïrculo no centro da moeda\n",
    "    cv2.circle(image, (i[0], i[1]), 2, (0, 255, 0), 5)\n",
    " \n",
    "cv2.imshow(\"Moedas Detectadas\", image)\n",
    "cv2.waitKey(0)\n",
    "cv2.destroyAllWindows()"
   ]
  },
  {
   "cell_type": "code",
   "execution_count": null,
   "metadata": {},
   "outputs": [],
   "source": []
  }
 ],
 "metadata": {
  "kernelspec": {
   "display_name": "Python 3",
   "language": "python",
   "name": "python3"
  },
  "language_info": {
   "codemirror_mode": {
    "name": "ipython",
    "version": 3
   },
   "file_extension": ".py",
   "mimetype": "text/x-python",
   "name": "python",
   "nbconvert_exporter": "python",
   "pygments_lexer": "ipython3",
   "version": "3.6.5"
  }
 },
 "nbformat": 4,
 "nbformat_minor": 2
}
