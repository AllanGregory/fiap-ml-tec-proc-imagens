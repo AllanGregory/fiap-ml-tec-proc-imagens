{
 "cells": [
  {
   "cell_type": "markdown",
   "metadata": {},
   "source": [
    "# Classificação de objetos"
   ]
  },
  {
   "cell_type": "markdown",
   "metadata": {},
   "source": [
    "Classificação de objetos utilizando classificador de cascata Harr"
   ]
  },
  {
   "cell_type": "code",
   "execution_count": 1,
   "metadata": {},
   "outputs": [
    {
     "name": "stdout",
     "output_type": "stream",
     "text": [
      "3.3.1\n"
     ]
    }
   ],
   "source": [
    "import cv2\n",
    "print(cv2.__version__)\n",
    "\n",
    "import numpy as np\n",
    "\n",
    "from matplotlib import pyplot as plt\n",
    "import matplotlib.image as mpimg\n",
    "\n",
    "%matplotlib inline\n",
    "\n",
    "plt.style.use('seaborn')"
   ]
  },
  {
   "cell_type": "markdown",
   "metadata": {},
   "source": [
    "Verificando versão instalada do OpenCV"
   ]
  },
  {
   "cell_type": "markdown",
   "metadata": {},
   "source": [
    "Carregando um classificador pré-treinado de Haar.\n",
    "Outros disponíveis em https://github.com/opencv/opencv/tree/master/data/haarcascades."
   ]
  },
  {
   "cell_type": "code",
   "execution_count": 22,
   "metadata": {},
   "outputs": [],
   "source": [
    "# Carregando classifcador\n",
    "face_classifier = cv2.CascadeClassifier('classificadores/haarcascade_frontalface_default.xml')\n",
    "\n",
    "image = cv2.imread('imagens/silvio.jpg')\n",
    "image = cv2.imread('imagens/silvio-filhas.jpg')\n",
    "image = cv2.imread('imagens/thanos.png')\n",
    "gray = cv2.cvtColor(image, cv2.COLOR_BGR2GRAY)\n",
    "\n",
    "# Our classifier returns the ROI of the detected face as a tuple\n",
    "# It stores the top left coordinate and the bottom right coordiantes\n",
    "# Retornará a região de interesse da face identificada como tupla, armazenando as coordenadas superiores esquerda e inferior \n",
    "# direita.\n",
    "# Se retornar vazio é por que não há faces identificadas.\n",
    "# Os valores padrão são configurações inciais recomendadas \n",
    "# (cv.HaarDetectObjects(image, cascade, storage, scale_factor=1.1, min_neighbors=3, flags=0, min_size=(0, 0)))\n",
    "faces = face_classifier.detectMultiScale(gray, 1.3, 5)\n",
    "\n",
    "# When no faces detected, face_classifier returns and empty tuple\n",
    "if faces is ():\n",
    "     cv2.putText(image, \"Rosto ausente\", (50,50), cv2.FONT_HERSHEY_SIMPLEX, 1, (0,255,0), 6)\n",
    "    \n",
    "\n",
    "# Desenhando retângulos nos rostos identificados\n",
    "for (x,y,w,h) in faces:\n",
    "    cv2.rectangle(image, (x,y), (x+w,y+h), (127,0,255), 2)\n",
    "    cv2.imshow('Face Detection', image)\n",
    "    \n",
    "cv2.waitKey(0)    \n",
    "cv2.destroyAllWindows()"
   ]
  },
  {
   "cell_type": "markdown",
   "metadata": {},
   "source": [
    "Construindo funções para utilizar em capturas de vídeo."
   ]
  },
  {
   "cell_type": "code",
   "execution_count": 3,
   "metadata": {},
   "outputs": [],
   "source": [
    "def identificar_rosto(imagem):\n",
    "    face_classifier = cv2.CascadeClassifier('classificadores/haarcascade_frontalface_default.xml')\n",
    "\n",
    "    gray = cv2.cvtColor(imagem, cv2.COLOR_BGR2GRAY)\n",
    "    faces = face_classifier.detectMultiScale(gray, 1.3, 5)\n",
    "\n",
    "    if faces is ():\n",
    "         cv2.putText(imagem, \"Sorriso ausente\", (50,50), cv2.FONT_HERSHEY_SIMPLEX, 1, (0,255,0), 6)\n",
    "\n",
    "    for (x,y,w,h) in faces:\n",
    "        cv2.rectangle(imagem, (x,y), (x+w,y+h), (127,0,255), 2)\n",
    "\n",
    "    return imagem"
   ]
  },
  {
   "cell_type": "markdown",
   "metadata": {},
   "source": [
    "Neste caso, o classifciador de sorriso depende inicialmente de localizarmos um rosto e definir o tamanho mínimo de captura. "
   ]
  },
  {
   "cell_type": "code",
   "execution_count": 16,
   "metadata": {},
   "outputs": [],
   "source": [
    "def identificar_sorriso(imagem):\n",
    "    face_classifier = cv2.CascadeClassifier('classificadores/haarcascade_frontalface_default.xml')\n",
    "    smile_classifier = cv2.CascadeClassifier('classificadores/haarcascade_smile.xml')\n",
    "\n",
    "    gray = cv2.cvtColor(imagem, cv2.COLOR_BGR2GRAY)\n",
    "    faces = face_classifier.detectMultiScale(gray, 1.3, 5)\n",
    "\n",
    "    if faces is ():\n",
    "         cv2.putText(imagem, \"ROSTO AUSENTE\", (50,50), cv2.FONT_HERSHEY_SIMPLEX, 2, (0,0,255), 2)\n",
    "\n",
    "    for (x,y,w,h) in faces:\n",
    "        \n",
    "        cv2.rectangle(imagem, (x, y), (x+w, y+h), (0, 0, 255), 2)\n",
    "        roi_gray = gray[y:y+h, x:x+w]\n",
    "        roi_color = imagem[y:y+h, x:x+w]\n",
    "        \n",
    "        smile = smile_classifier.detectMultiScale(\n",
    "            roi_gray,\n",
    "            scaleFactor= 1.7,\n",
    "            minNeighbors=22,\n",
    "            minSize=(25, 25),\n",
    "            flags=cv2.CASCADE_SCALE_IMAGE\n",
    "            )\n",
    "\n",
    "        # Set region of interest for smiles\n",
    "        for (x, y, w, h) in smile:\n",
    "            cv2.rectangle(roi_color, (x, y), (x+w, y+h), (255, 0, 0), 1)\n",
    "            tamanho = int(w) * int(h)\n",
    "            cv2.putText(imagem, \"SORRISO [%s]\"%(tamanho), (50,80), cv2.FONT_HERSHEY_SIMPLEX, 2, (255,0,0), 2)\n",
    "            break\n",
    "\n",
    "    return imagem"
   ]
  },
  {
   "cell_type": "code",
   "execution_count": 17,
   "metadata": {},
   "outputs": [],
   "source": [
    "def identificar_bola(imagem):\n",
    "    ball_classifier = cv2.CascadeClassifier('ball/classifier/cascade.xml')\n",
    "  \n",
    "    gray = cv2.cvtColor(imagem, cv2.COLOR_BGR2GRAY)\n",
    "    balls = ball_classifier.detectMultiScale(gray, 1.3, 3)\n",
    "\n",
    "    for (x,y,w,h) in balls:\n",
    "        roi = imagem[y:y+h, x:x+w]\n",
    "        area = int(w) * int(h)\n",
    "        if area > 1500:\n",
    "            cv2.rectangle(imagem, (x,y), (x+w,y+h), (127,0,255), 2)\n",
    "            cv2.putText(imagem, \"BOLA\", (x,y-20), cv2.FONT_HERSHEY_PLAIN, 2, (0,0,255), 1)\n",
    "        \n",
    "    return imagem"
   ]
  },
  {
   "cell_type": "code",
   "execution_count": 18,
   "metadata": {},
   "outputs": [],
   "source": [
    "#cam_capture.release()\n",
    "    \n",
    "cam_capture = cv2.VideoCapture(0)\n",
    "cv2.destroyAllWindows()\n",
    "\n",
    "while True:\n",
    "    ret, image_frame = cam_capture.read()\n",
    "    \n",
    "    if ret:\n",
    "        #image_frame = identificar_rosto(image_frame)\n",
    "        image_frame = identificar_sorriso(image_frame)\n",
    "        cv2.imshow(\"Detector de Rostos\", image_frame)\n",
    "        if cv2.waitKey(1) == 13:\n",
    "            break\n",
    "    else:\n",
    "        break\n",
    "        \n",
    "cam_capture.release()\n",
    "cv2.destroyAllWindows()"
   ]
  },
  {
   "cell_type": "markdown",
   "metadata": {},
   "source": [
    "As imagens para as etapas de treino podem ser baixadas em http://www.dis.uniroma1.it/~labrococo/?q=node/459. O treinamento pode ser feito utilizando um software em Windows http://amin-ahmadi.com/cascade-trainer-gui/."
   ]
  },
  {
   "cell_type": "code",
   "execution_count": 24,
   "metadata": {},
   "outputs": [],
   "source": [
    "import time\n",
    "\n",
    "cam_capture = cv2.VideoCapture(\"videos/soccer.avi\")\n",
    "\n",
    "while True:\n",
    "    ret, image_frame = cam_capture.read()\n",
    "    \n",
    "    if ret:\n",
    "        image_frame = identificar_bola(image_frame)\n",
    "        cv2.imshow(\"Identificar bolas\", image_frame)\n",
    "\n",
    "        if cv2.waitKey(1) == 13:\n",
    "            break\n",
    "    else:\n",
    "        break\n",
    "        \n",
    "cam_capture.release()\n",
    "cv2.destroyAllWindows()"
   ]
  },
  {
   "cell_type": "code",
   "execution_count": 6,
   "metadata": {},
   "outputs": [],
   "source": [
    "image_test = cv2.imread('imagens/silvio.jpg')\n",
    "image_marked = identificar_sorriso(image_test)\n",
    "cv2.imshow('Face Detection', image_marked)\n",
    "cv2.waitKey(0)\n",
    "\n",
    "image_test = cv2.imread('imagens/sorriso.jpg')\n",
    "image_marked = identificar_sorriso(image_test)\n",
    "cv2.imshow('Face Detection 2', image_marked)\n",
    "cv2.waitKey(0)\n",
    "\n",
    "cv2.destroyAllWindows()"
   ]
  },
  {
   "cell_type": "code",
   "execution_count": 49,
   "metadata": {},
   "outputs": [],
   "source": [
    "def identificar_bodies(imagem):\n",
    "    body_classifier = cv2.CascadeClassifier('classificadores/haarcascade_fullbody.xml')\n",
    "  \n",
    "    gray = cv2.cvtColor(imagem, cv2.COLOR_BGR2GRAY)\n",
    "    bodies = body_classifier.detectMultiScale(gray, 1.2, 3)\n",
    "\n",
    "    for (x,y,w,h) in bodies:\n",
    "        roi = imagem[y:y+h, x:x+w]\n",
    "        area = int(w) * int(h)\n",
    "        cv2.rectangle(imagem, (x,y), (x+w,y+h), (127,0,255), 2)\n",
    "        cv2.putText(imagem, \"PEDESTRE\", (x,y-20), cv2.FONT_HERSHEY_PLAIN, 2, (0,0,255), 1)\n",
    "        \n",
    "    return imagem"
   ]
  },
  {
   "cell_type": "code",
   "execution_count": 57,
   "metadata": {},
   "outputs": [],
   "source": [
    "def identificar_carros(imagem):\n",
    "    cars_classifier = cv2.CascadeClassifier('classificadores/haarcascade_car.xml')\n",
    "  \n",
    "    gray = cv2.cvtColor(imagem, cv2.COLOR_BGR2GRAY)\n",
    "    cars = cars_classifier.detectMultiScale(gray, 1.2, 3)\n",
    "\n",
    "    for (x,y,w,h) in cars:\n",
    "        roi = imagem[y:y+h, x:x+w]\n",
    "        area = int(w) * int(h)\n",
    "        cv2.rectangle(imagem, (x,y), (x+w,y+h), (127,0,255), 2)\n",
    "        cv2.putText(imagem, \"CARRO\", (x,y-20), cv2.FONT_HERSHEY_PLAIN, 2, (0,0,255), 1)\n",
    "        \n",
    "    return imagem"
   ]
  },
  {
   "cell_type": "code",
   "execution_count": 55,
   "metadata": {},
   "outputs": [],
   "source": [
    "cam_capture = cv2.VideoCapture(\"videos/walking.avi\")\n",
    "\n",
    "while True:\n",
    "    ret, image_frame = cam_capture.read()\n",
    "    \n",
    "    if ret:\n",
    "        image_frame = identificar_bodies(image_frame)\n",
    "        cv2.imshow(\"Identificar bolas\", image_frame)\n",
    "\n",
    "        if cv2.waitKey(1) == 13:\n",
    "            break\n",
    "    else:\n",
    "        break\n",
    "        \n",
    "cam_capture.release()\n",
    "cv2.destroyAllWindows()"
   ]
  },
  {
   "cell_type": "code",
   "execution_count": 59,
   "metadata": {},
   "outputs": [],
   "source": [
    "cam_capture = cv2.VideoCapture(\"videos/cars.avi\")\n",
    "\n",
    "while True:\n",
    "    ret, image_frame = cam_capture.read()\n",
    "    \n",
    "    if ret:\n",
    "        image_frame = identificar_carros(image_frame)\n",
    "        cv2.imshow(\"Identificar bolas\", image_frame)\n",
    "\n",
    "        if cv2.waitKey(1) == 13:\n",
    "            break\n",
    "    else:\n",
    "        break\n",
    "        \n",
    "cam_capture.release()\n",
    "cv2.destroyAllWindows()"
   ]
  }
 ],
 "metadata": {
  "kernelspec": {
   "display_name": "Python 3",
   "language": "python",
   "name": "python3"
  },
  "language_info": {
   "codemirror_mode": {
    "name": "ipython",
    "version": 3
   },
   "file_extension": ".py",
   "mimetype": "text/x-python",
   "name": "python",
   "nbconvert_exporter": "python",
   "pygments_lexer": "ipython3",
   "version": "3.6.5"
  }
 },
 "nbformat": 4,
 "nbformat_minor": 2
}
